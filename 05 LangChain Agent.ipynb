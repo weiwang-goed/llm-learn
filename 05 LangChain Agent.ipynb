{
 "cells": [
  {
   "cell_type": "code",
   "execution_count": 1,
   "id": "a9c9cd25-1af3-4fd7-bf2a-dcab193e047b",
   "metadata": {},
   "outputs": [],
   "source": [
    "# Import relevant functionality\n",
    "from langchain_openai import ChatOpenAI\n",
    "from langchain_community.tools.tavily_search import TavilySearchResults # search tool\n",
    "from langchain_core.messages import HumanMessage\n",
    "from langgraph.checkpoint.memory import MemorySaver # checkpointer\n",
    "from langgraph.prebuilt import create_react_agent # tool?\n",
    "import os\n",
    "\n",
    "with open('../key.txt', \"r\", encoding=\"utf-8\") as file:\n",
    "    content = file.readline()\n",
    "    \n",
    "os.environ['LANGCHAIN_TRACING_V2'] = \"true\"\n",
    "os.environ['LANGCHAIN_API_KEY'] = content.split(' ')[-1]\n",
    "os.environ['LANGCHAIN_ENDPOINT'] = \"https://api.smith.langchain.com\"\n",
    "os.environ['LANGCHAIN_PROJECT'] = \"project-test-1\"\n",
    "\n",
    "\n",
    "# Create the agent\n",
    "memory = MemorySaver()\n",
    "model = ChatOpenAI(model_name=\"gpt-4o-mini\")\n",
    "search = TavilySearchResults(max_results=2)\n",
    "tools = [search]\n",
    "agent_executor = create_react_agent(model, tools, checkpointer=memory) # model + tool + checkpoint\n",
    "\n",
    "config = {\"configurable\": {\"thread_id\": \"abc123\"}}\n",
    "\n",
    "# Use the agent & debug steps\n",
    "if 0:\n",
    "    for chunk in agent_executor.invoke( # no tool \n",
    "        {\"messages\": [HumanMessage(content=\"hi im bob! and i live in sf\")]}, config\n",
    "    ):\n",
    "        print(chunk)\n",
    "        print(\"----\")\n",
    "    \n",
    "    for chunk in agent_executor.stream( # call tool\n",
    "        {\"messages\": [HumanMessage(content=\"How many people are there in the place live?\")]}, config\n",
    "    ):\n",
    "        print(chunk)\n",
    "        print(\"----\")"
   ]
  },
  {
   "cell_type": "markdown",
   "id": "961d40a3-f84b-41ad-9d57-1b6529cb063f",
   "metadata": {},
   "source": [
    "### Step-by-step: Agent"
   ]
  },
  {
   "cell_type": "code",
   "execution_count": null,
   "id": "25e0bafa-6d2f-4b26-8b97-9fc5d26ba2aa",
   "metadata": {},
   "outputs": [],
   "source": [
    "## Without agent, it doesn't act\n",
    "if 0:\n",
    "    model_with_tools = model.bind_tools(tools)\n",
    "    response = model_with_tools.invoke([HumanMessage(content=\"What's the weather in Wuhan today?\")])\n",
    "    print(response.tool_calls)\n",
    "\n",
    "## With agent, the steps. How does model know how many steps?\n",
    "if 1: # call_model -> (re-direct)tool -> (searched-2-results)AI -> End \n",
    "    agent_executor = create_react_agent(model, tools, checkpointer=memory)\n",
    "    response = agent_executor.invoke(\n",
    "        {\"messages\": [HumanMessage(content=\"whats the weather in Wuhan today?\")]}, config\n",
    "    )\n",
    "    print(response[\"messages\"])"
   ]
  },
  {
   "cell_type": "markdown",
   "id": "e1cb7ea8-f16f-401b-be23-00d6d431ee19",
   "metadata": {},
   "source": [
    "## React Prompt"
   ]
  },
  {
   "cell_type": "code",
   "execution_count": 9,
   "id": "545ada66-2369-4123-85a9-57d9072c84c8",
   "metadata": {},
   "outputs": [],
   "source": [
    "from langchain import hub\n",
    "\n",
    "prompt = hub.pull(\"hwchase17/react\") # get from hub\n"
   ]
  },
  {
   "cell_type": "code",
   "execution_count": null,
   "id": "6b033dca-a741-478d-b060-2978001a3fc0",
   "metadata": {},
   "outputs": [],
   "source": [
    "model_with_tools"
   ]
  }
 ],
 "metadata": {
  "kernelspec": {
   "display_name": "Python 3 (ipykernel)",
   "language": "python",
   "name": "python3"
  },
  "language_info": {
   "codemirror_mode": {
    "name": "ipython",
    "version": 3
   },
   "file_extension": ".py",
   "mimetype": "text/x-python",
   "name": "python",
   "nbconvert_exporter": "python",
   "pygments_lexer": "ipython3",
   "version": "3.10.11"
  }
 },
 "nbformat": 4,
 "nbformat_minor": 5
}
