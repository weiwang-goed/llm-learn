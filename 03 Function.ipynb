{
 "cells": [
  {
   "cell_type": "markdown",
   "id": "b2e0f520-989a-4484-bc57-e59978b3cc12",
   "metadata": {},
   "source": [
    "- What: Connect LLM models to external tools.\n",
    "- How: OpenAI returns the function & arguments, still your code execute it.\n",
    "- Steps:\n",
    "    1. You ask: Prompt-Q\n",
    "    2. OpenAI: should call Func-a, Arg-b\n",
    "    3. You execute:   "
   ]
  },
  {
   "cell_type": "markdown",
   "id": "5c895edd-23bd-4795-b793-912a21821923",
   "metadata": {},
   "source": [
    "### Function Pool"
   ]
  },
  {
   "cell_type": "code",
   "execution_count": null,
   "id": "a0d74fbf-777c-4ee5-a755-6f369a74ea24",
   "metadata": {},
   "outputs": [],
   "source": [
    "def function_pool_add(x:float, y:float)->float:\n",
    "    return x+y\n",
    "\n",
    "def function_pool_power(x:float, y:float)->float:\n",
    "    return x**y\n",
    "\n",
    "def function_get(x:float, y:float)->float:\n",
    "    return x**y\n",
    "\n"
   ]
  },
  {
   "cell_type": "markdown",
   "id": "50705fd4-d4dc-46e9-be0c-b8bb8c63fff6",
   "metadata": {},
   "source": [
    "### Function schema"
   ]
  },
  {
   "cell_type": "code",
   "execution_count": null,
   "id": "1111fef7-748a-484c-ad57-8f72b00dd9cc",
   "metadata": {},
   "outputs": [],
   "source": [
    "tools = [\n",
    "    {\n",
    "        \"type\": \"function\",\n",
    "        \"function\": {\n",
    "            \"name\": \"get_delivery_date\",\n",
    "            \"description\": \"Get the delivery date for a customer's order. Call this whenever you need to know the delivery date, for example when a customer asks 'Where is my package'\",\n",
    "            \"parameters\": {\n",
    "                \"type\": \"object\",\n",
    "                \"properties\": {\n",
    "                    \"order_id\": {\n",
    "                        \"type\": \"string\",\n",
    "                        \"description\": \"The customer's order ID.\",\n",
    "                    },\n",
    "                },\n",
    "                \"required\": [\"order_id\"],\n",
    "                \"additionalProperties\": False,\n",
    "            },\n",
    "        }\n",
    "    }\n",
    "]\n",
    "\n"
   ]
  },
  {
   "cell_type": "markdown",
   "id": "41635f8a-fb4b-4944-9a95-8d52995422a5",
   "metadata": {},
   "source": [
    "### Messages"
   ]
  },
  {
   "cell_type": "code",
   "execution_count": null,
   "id": "58f79aa5-7c2d-4292-8025-4e5153cdb9b2",
   "metadata": {},
   "outputs": [],
   "source": [
    "messages = [\n",
    "    {\"role\": \"system\", \"content\": \"You are a helpful customer support assistant. Use the supplied tools to assist the user.\"},\n",
    "    {\"role\": \"user\", \"content\": \"Hi, can you tell me the delivery date for my order?\"}\n",
    "]\n",
    "\n",
    "response = openai.chat.completions.create(\n",
    "    model=\"gpt-4o\",\n",
    "    messages=messages,\n",
    "    tools=tools,\n",
    ")"
   ]
  }
 ],
 "metadata": {
  "kernelspec": {
   "display_name": "Python 3 (ipykernel)",
   "language": "python",
   "name": "python3"
  },
  "language_info": {
   "codemirror_mode": {
    "name": "ipython",
    "version": 3
   },
   "file_extension": ".py",
   "mimetype": "text/x-python",
   "name": "python",
   "nbconvert_exporter": "python",
   "pygments_lexer": "ipython3",
   "version": "3.10.11"
  }
 },
 "nbformat": 4,
 "nbformat_minor": 5
}
