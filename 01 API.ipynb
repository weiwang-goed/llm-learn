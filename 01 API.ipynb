{
 "cells": [
  {
   "cell_type": "markdown",
   "id": "d778e620-4be8-4158-9da7-1b2e9e11e7c0",
   "metadata": {},
   "source": [
    "## 1. Basic API "
   ]
  },
  {
   "cell_type": "code",
   "execution_count": null,
   "id": "148409e2-77cb-4d2f-b82f-f45892629c20",
   "metadata": {},
   "outputs": [],
   "source": [
    "from openai import OpenAI\n",
    "client = OpenAI()\n",
    "\n",
    "MAIN_CFG = {\n",
    "    'model':\"gpt-4o-mini\", # can be 'gpt-4o', 'o1-mini'        \n",
    "    'messages':[\n",
    "        {\"role\": \"user\", \"content\": \"explain in 300 words what's fine-tune in llm?\"}\n",
    "    ],\n",
    "    'max_tokens':400,\n",
    "    'temperature':1\n",
    "}\n",
    "\n",
    "completion = client.chat.completions.create(\n",
    "    **MAIN_CFG\n",
    ")\n",
    "\n",
    "# completion.to_dict()['choices'][0]['message']['content'] # get content"
   ]
  },
  {
   "cell_type": "markdown",
   "id": "892273bb-31ac-4ec3-9cd3-fb9f241284bb",
   "metadata": {},
   "source": [
    "## 2. Prompt\n",
    "### prompt: instruction"
   ]
  },
  {
   "cell_type": "code",
   "execution_count": null,
   "id": "c003e97a-99a5-4f1d-8d5c-fb3fce4d65a8",
   "metadata": {},
   "outputs": [],
   "source": [
    "MAIN_CFG['messages'] += [{ # system instructions\n",
    "      \"role\": \"system\",\n",
    "      \"content\": [{\n",
    "          \"type\": \"text\",\n",
    "          \"text\": \"you are a middle school teacher\"\n",
    "        }]\n",
    "    }]\n",
    "completion = client.chat.completions.create(\n",
    "    **MAIN_CFG\n",
    ")"
   ]
  },
  {
   "cell_type": "markdown",
   "id": "501dd2ac-7b7c-4466-8e23-fe095a31fa3c",
   "metadata": {},
   "source": [
    "### prompt: multi-turn conversation"
   ]
  },
  {
   "cell_type": "code",
   "execution_count": null,
   "id": "4f81c44f-ad4a-46d3-b80c-d3737681a889",
   "metadata": {},
   "outputs": [],
   "source": [
    "MAIN_CFG['messages'] = [\n",
    "    {\n",
    "      \"role\": \"user\", # usr-1\n",
    "      \"content\": [{ \"type\": \"text\", \"text\": \"knock knock.\" }]\n",
    "    },\n",
    "    {\n",
    "      \"role\": \"assistant\", # reply-1\n",
    "      \"content\": [{ \"type\": \"text\", \"text\": \"Who's there?\" }]\n",
    "    },\n",
    "    {\n",
    "      \"role\": \"user\", # usr-2\n",
    "      \"content\": [{ \"type\": \"text\", \"text\": \"Orange.\" }]\n",
    "    },\n",
    "    {\n",
    "      \"role\": \"assistant\", # reply-2\n",
    "      \"content\": [{ \"type\": \"text\", \"text\": \"Orange Who?\" }]\n",
    "    },\n",
    "    {\n",
    "      \"role\": \"assistant\", # usr-3\n",
    "      \"content\": [{ \"type\": \"text\", \"text\": \"Orange Orange.\" }]\n",
    "    },\n",
    "  ]"
   ]
  },
  {
   "cell_type": "markdown",
   "id": "2b08b69c-b19b-4250-a41d-92e674a0cc52",
   "metadata": {},
   "source": [
    "### prompt: parse docx to csv"
   ]
  },
  {
   "cell_type": "code",
   "execution_count": null,
   "id": "82962914-ac19-4e9e-8110-d67f6d116921",
   "metadata": {},
   "outputs": [],
   "source": [
    "from docx import Document\n",
    "def read_docx(file_path):\n",
    "    doc = Document(file_path)\n",
    "    text = []\n",
    "    for paragraph in doc.paragraphs:\n",
    "        text.append(paragraph.text)\n",
    "    return '\\n'.join(text)\n",
    "    \n",
    "MAIN_CFG['messages'] = [\n",
    "    {\n",
    "        'role':'system',\n",
    "        'content':'You will be provided with unstructured data, and your task is to parse it into CSV format.'},\n",
    "    {\n",
    "        'role':'user',\n",
    "        'content':read_docx('../../Data/1.docx')},\n",
    "]\n"
   ]
  },
  {
   "cell_type": "markdown",
   "id": "098c0818-caf9-46e8-9c31-6164f6905084",
   "metadata": {},
   "source": [
    "### prompt: choose in predefined list"
   ]
  },
  {
   "cell_type": "code",
   "execution_count": null,
   "id": "7a6a48ba-1d3a-40a2-9fcc-2ed5be65fb1a",
   "metadata": {},
   "outputs": [],
   "source": [
    "MAIN_CFG['messages'] = [\n",
    "    {\n",
    "        'role':'system',\n",
    "        'content':'''\n",
    "            You are to answer questions based on the presented content.\n",
    "            Provide your answer in bullet point form.\n",
    "            Answer ONLY based on the following list and choose either yes or no:\n",
    "    - If contains budget plan for the project\n",
    "    - Writes clearly about the objectives and project plan  \n",
    "    - Writes neatly or not'''\n",
    "    },\n",
    "    {\n",
    "        'role':'user',\n",
    "        'content':read_docx('../../Data/2.docx')\n",
    "    },\n",
    "]"
   ]
  },
  {
   "cell_type": "markdown",
   "id": "ece3bd68-a8d4-421f-b179-6f323c185dde",
   "metadata": {},
   "source": [
    "## 3. Image process"
   ]
  },
  {
   "cell_type": "code",
   "execution_count": null,
   "id": "e1a9ae67-f940-4f1a-aba9-d696a7b3471c",
   "metadata": {},
   "outputs": [],
   "source": [
    "import matplotlib.pyplot as plt\n",
    "import requests\n",
    "from PIL import Image\n",
    "from io import BytesIO\n",
    "import numpy as np\n",
    "\n",
    "url = 'https://upload.wikimedia.org/wikipedia/en/thumb/3/34/Cars_2006.jpg/220px-Cars_2006.jpg'\n",
    "\n",
    "im = np.array(Image.open(BytesIO(requests.get(url).content)))\n",
    "plt.imshow(im)"
   ]
  },
  {
   "cell_type": "code",
   "execution_count": null,
   "id": "bfe74108-5c0f-4744-b9ba-dfafb09aeb0f",
   "metadata": {},
   "outputs": [],
   "source": [
    "MAIN_CFG['messages'] = [\n",
    "    {\n",
    "        'role':'user',\n",
    "        'content':[\n",
    "            {\"type\": \"text\", \"text\": \"Count cars by color\"},\n",
    "             {\n",
    "              \"type\": \"image_url\",\n",
    "              \"image_url\": {\n",
    "                \"url\": url,\n",
    "                \"detail\": \"high\" # high for more details(in counting), low for main description. \n",
    "             }}\n",
    "        ],\n",
    "    },\n",
    "    {\n",
    "        'role':'system',\n",
    "        'content':'you are a research helper and answer precisely'\n",
    "    }\n",
    "]"
   ]
  },
  {
   "cell_type": "code",
   "execution_count": null,
   "id": "6ea429f2-6db1-4102-95fe-1a0f623bd7d0",
   "metadata": {
    "editable": true,
    "scrolled": true,
    "slideshow": {
     "slide_type": ""
    },
    "tags": []
   },
   "outputs": [],
   "source": [
    "MAIN_CFG['max_tokens'] = 1024\n",
    "MAIN_CFG['model'] = 'gpt-4o'\n",
    "completion = client.chat.completions.create(\n",
    "    **MAIN_CFG\n",
    ")\n",
    "completion.to_dict()['choices'][0]['message']['content']"
   ]
  },
  {
   "cell_type": "code",
   "execution_count": null,
   "id": "95047f04-c62e-4d49-b80a-c7b7eed318f4",
   "metadata": {},
   "outputs": [],
   "source": [
    "import base64\n",
    "len(base64.b64encode(b'12345678abcdefgh').decode('utf-8')) # 16 bytes to 24 ascii bytes"
   ]
  }
 ],
 "metadata": {
  "kernelspec": {
   "display_name": "Python 3 (ipykernel)",
   "language": "python",
   "name": "python3"
  },
  "language_info": {
   "codemirror_mode": {
    "name": "ipython",
    "version": 3
   },
   "file_extension": ".py",
   "mimetype": "text/x-python",
   "name": "python",
   "nbconvert_exporter": "python",
   "pygments_lexer": "ipython3",
   "version": "3.10.11"
  }
 },
 "nbformat": 4,
 "nbformat_minor": 5
}
