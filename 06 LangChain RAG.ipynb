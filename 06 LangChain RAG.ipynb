{
 "cells": [
  {
   "cell_type": "code",
   "execution_count": 1,
   "id": "a0b3d56c-0f53-42dd-80f1-7d339f488dac",
   "metadata": {},
   "outputs": [],
   "source": [
    "from langchain_openai import ChatOpenAI\n",
    "from langchain_core.messages import HumanMessage\n",
    "from langgraph.checkpoint.memory import MemorySaver # checkpointer\n",
    "# from langgraph.prebuilt import create_react_agent # tool?\n",
    "# from langchain_community.tools.tavily_search import TavilySearchResults \n",
    "from langchain_core.documents import Document\n",
    "from langchain_chroma import Chroma\n",
    "from langchain_openai import OpenAIEmbeddings\n",
    "from langchain_core.runnables import RunnableLambda\n",
    "import os\n",
    "\n",
    "with open('../key.txt', \"r\", encoding=\"utf-8\") as file:\n",
    "    content = file.readline()\n",
    "    \n",
    "os.environ['LANGCHAIN_TRACING_V2'] = \"true\"\n",
    "os.environ['LANGCHAIN_API_KEY'] = content.split(' ')[-1]\n",
    "os.environ['LANGCHAIN_ENDPOINT'] = \"https://api.smith.langchain.com\"\n",
    "os.environ['LANGCHAIN_PROJECT'] = \"project-test-1\"\n"
   ]
  },
  {
   "cell_type": "markdown",
   "id": "0cc76c27-c6f6-4b06-b16a-7ae828cd5e6b",
   "metadata": {},
   "source": [
    "### build chroma vector-store"
   ]
  },
  {
   "cell_type": "code",
   "execution_count": 3,
   "id": "b1174a01-ce99-4e58-82e6-08039aeafd5c",
   "metadata": {},
   "outputs": [],
   "source": [
    "documents = [\n",
    "    Document(\n",
    "        page_content=\"Dogs are great companions, known for their loyalty and friendliness.\",\n",
    "        metadata={\"source\": \"mammal-pets-doc\"},\n",
    "    ),\n",
    "    Document(\n",
    "        page_content=\"Cats are independent pets that often enjoy their own space.\",\n",
    "        metadata={\"source\": \"mammal-pets-doc\"},\n",
    "    ),\n",
    "    Document(\n",
    "        page_content=\"Goldfish are popular pets for beginners, requiring relatively simple care.\",\n",
    "        metadata={\"source\": \"fish-pets-doc\"},\n",
    "    ),\n",
    "    Document(\n",
    "        page_content=\"Parrots are intelligent birds capable of mimicking human speech.\",\n",
    "        metadata={\"source\": \"bird-pets-doc\"},\n",
    "    ),\n",
    "    Document(\n",
    "        page_content=\"Rabbits are social animals that need plenty of space to hop around.\",\n",
    "        metadata={\"source\": \"mammal-pets-doc\"},\n",
    "    ),\n",
    "]\n",
    "\n",
    "vectorstore = Chroma.from_documents(\n",
    "    documents,\n",
    "    embedding=OpenAIEmbeddings(),\n",
    ") # see presistence location in : vectorstore._client_settings\n",
    "\n",
    "# vectorstore.similarity_search(\"cat\") # query\n",
    "# await vectorstore.asimilarity_search_with_score(\"pet\")"
   ]
  },
  {
   "cell_type": "code",
   "execution_count": 19,
   "id": "bd6c4e87-5aef-4d85-8b17-a6f65feee1e4",
   "metadata": {},
   "outputs": [
    {
     "data": {
      "text/plain": [
       "[[Document(metadata={'source': 'mammal-pets-doc'}, page_content='Cats are independent pets that often enjoy their own space.')],\n",
       " [Document(metadata={'source': 'fish-pets-doc'}, page_content='Goldfish are popular pets for beginners, requiring relatively simple care.')]]"
      ]
     },
     "execution_count": 19,
     "metadata": {},
     "output_type": "execute_result"
    }
   ],
   "source": [
    "retriever = RunnableLambda(vectorstore.similarity_search).bind(k=1)  # select top result\n",
    "retriever.batch([\"cat\", \"shark\"])\n",
    "retriever.invoke('cat')"
   ]
  },
  {
   "cell_type": "markdown",
   "id": "1b280b43-1c2d-434b-a6d9-1fc729c0edbf",
   "metadata": {},
   "source": [
    "### build chroma + langChain RAG"
   ]
  },
  {
   "cell_type": "code",
   "execution_count": null,
   "id": "31406732-bb7b-4fdf-a5a6-9b7b891af32d",
   "metadata": {},
   "outputs": [],
   "source": [
    "from langchain_core.prompts import ChatPromptTemplate\n",
    "from langchain_core.runnables import RunnablePassthrough\n",
    "from operator import itemgetter\n",
    "from langchain.globals import set_verbose, set_debug\n",
    "\n",
    "set_verbose(False)\n",
    "set_debug(False)\n",
    "os.environ['LANGCHAIN_ENDPOINT'] = \"\"\n",
    "\n",
    "message = \"\"\"\n",
    "Answer this question using the provided context only.\n",
    "\n",
    "{question}\n",
    "\n",
    "Context:\n",
    "{context}\n",
    "\"\"\"\n",
    "\n",
    "prompt = ChatPromptTemplate.from_messages([(\"human\", message)])\n",
    "model = ChatOpenAI(model_name = 'gpt-4o-mini')\n",
    "if 0:  # Case: Input = dict\n",
    "    chain = ( RunnablePassthrough.assign(context = (itemgetter(\"question\") | retriever) ) \n",
    "             | prompt | model )\n",
    "    print(chain.invoke({'question':\"tell me about cat\"}).content)\n",
    "\n",
    "if 1:  # Case: Input = text\n",
    "    chain = ( {'context': retriever, 'question': RunnablePassthrough()}  \n",
    "             | prompt | model )\n",
    "    print(chain.invoke(\"tell me about dog\").content)\n",
    "    "
   ]
  },
  {
   "cell_type": "markdown",
   "id": "7b03edeb-e852-4ab6-b8e6-8ff59d38762a",
   "metadata": {},
   "source": [
    "### Parent document retriever"
   ]
  },
  {
   "cell_type": "code",
   "execution_count": 1,
   "id": "8db39cf9-668f-498e-872c-62da8c82539f",
   "metadata": {},
   "outputs": [],
   "source": [
    "from langchain.retrievers import ParentDocumentRetriever\n",
    "from langchain.storage import InMemoryStore\n",
    "from langchain_chroma import Chroma\n",
    "from langchain_community.vectorstores import FAISS\n",
    "from langchain_community.document_loaders import TextLoader, PyPDFLoader\n",
    "from langchain_openai import OpenAIEmbeddings\n",
    "from langchain_text_splitters import RecursiveCharacterTextSplitter\n",
    "\n",
    "loaders = [\n",
    "    PyPDFLoader(\"E:\\数智项目资料\\数字员工\\卓越成效\\卓越绩效管理.pdf\"),\n",
    "    TextLoader(\"E:\\数智项目资料\\数字员工\\卓越成效\\数字员工分析-1.txt\", encoding=\"utf-8\")\n",
    "]\n",
    "\n",
    "docs = []\n",
    "for loader in loaders: # 2 docs in 1 \n",
    "    docs.extend(loader.load())"
   ]
  },
  {
   "cell_type": "code",
   "execution_count": 16,
   "id": "dbf9e534-708f-4c4f-93ee-d6364ee7a0d7",
   "metadata": {},
   "outputs": [],
   "source": [
    "# This text splitter is used to create the child documents\n",
    "child_splitter = RecursiveCharacterTextSplitter(chunk_size=400)\n",
    "# The vectorstore to use to index the child chunks\n",
    "vectorstore = Chroma(\n",
    "    collection_name=\"full_documents\", embedding_function=OpenAIEmbeddings()\n",
    ")\n",
    "\n",
    "# The storage layer for the parent documents\n",
    "store = InMemoryStore()\n",
    "retriever = ParentDocumentRetriever(\n",
    "    vectorstore=vectorstore,\n",
    "    docstore=store,\n",
    "    child_splitter=child_splitter,\n",
    ")\n",
    "retriever.add_documents(docs, ids=None) # 1. Add docs to vectorstore / parentRetriever"
   ]
  },
  {
   "cell_type": "code",
   "execution_count": 28,
   "id": "11584587-8e48-43f2-a85a-966359dbeeed",
   "metadata": {},
   "outputs": [
    {
     "name": "stdout",
     "output_type": "stream",
     "text": [
      "4\n",
      "1\n"
     ]
    }
   ],
   "source": [
    "sub_docs = vectorstore.similarity_search(\"数字员工\") # 2. search small trunk / vectorstore\n",
    "print(len(sub_docs))\n",
    "parent_docs = retriever.invoke('数字员工')\n",
    "print(len(parent_docs))"
   ]
  },
  {
   "cell_type": "markdown",
   "id": "429f4a20-e18c-497f-8b6d-214bf3e2d709",
   "metadata": {},
   "source": [
    "### To be Continued\n",
    "- Retrieve: + hard rules & filters\n",
    "- Retrieve: Ensemble retrieved results\n",
    "- Embedding: Multiple embeddings\n",
    "- Model: Weigh returned documents\n",
    "- Taxonamy: "
   ]
  },
  {
   "cell_type": "code",
   "execution_count": null,
   "id": "eaa0436c-7678-41d0-88f6-3aaf3ceeacee",
   "metadata": {},
   "outputs": [],
   "source": []
  }
 ],
 "metadata": {
  "kernelspec": {
   "display_name": "Python 3 (ipykernel)",
   "language": "python",
   "name": "python3"
  },
  "language_info": {
   "codemirror_mode": {
    "name": "ipython",
    "version": 3
   },
   "file_extension": ".py",
   "mimetype": "text/x-python",
   "name": "python",
   "nbconvert_exporter": "python",
   "pygments_lexer": "ipython3",
   "version": "3.10.11"
  }
 },
 "nbformat": 4,
 "nbformat_minor": 5
}
